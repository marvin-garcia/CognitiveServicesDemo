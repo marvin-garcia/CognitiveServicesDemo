{
 "cells": [
  {
   "cell_type": "markdown",
   "metadata": {},
   "source": [
    "<h1 align=\"center\">Microsoft Cognitive Services Demo</h1>\n",
    "<h1 align=\"center\">Custom Vision - Image Classification</h1>\n",
    "## Setting Up Environment"
   ]
  },
  {
   "cell_type": "markdown",
   "metadata": {},
   "source": [
    "1. Go to https://customvision.ai/  and sign in with your azure account/ID\n",
    "2. Once you are in, go to Settings (gear icon - upper right corner) and copy your Limited Trial Prediction and Training Key"
   ]
  },
  {
   "cell_type": "code",
   "execution_count": 1,
   "metadata": {},
   "outputs": [],
   "source": [
    "import sys"
   ]
  },
  {
   "cell_type": "code",
   "execution_count": null,
   "metadata": {},
   "outputs": [],
   "source": [
    "#This is only one time run to install the required python libraries on this virtual machine\n",
    "!{sys.executable} -m pip install -U azure-cognitiveservices-vision-customvision"
   ]
  },
  {
   "cell_type": "markdown",
   "metadata": {},
   "source": [
    "## Initialize the libraries and origin and destination workspaces"
   ]
  },
  {
   "cell_type": "code",
   "execution_count": 2,
   "metadata": {},
   "outputs": [],
   "source": [
    "from azure.cognitiveservices.vision.customvision.training import CustomVisionTrainingClient\n",
    "from azure.cognitiveservices.vision.customvision.training.models import ImageUrlCreateEntry\n",
    "\n",
    "ENDPOINT = \"https://southcentralus.api.cognitive.microsoft.com\"\n",
    "\n",
    "# DESTINATION Resource Group Keys\n",
    "dest_training_key = \"<your-training-key>\"\n",
    "dest_prediction_key = \"<your-prediction-key>\"\n",
    "dest_project_new_name = \"Debris_Recognition_Copy\"\n",
    "\n",
    "# ORIGIN Resource Group Keys\n",
    "training_key = \"8a0dbf7add9041358beb383f9dce4696\"\n",
    "prediction_key = \"c40ee63eae6a45709dd23db02bd72712\"\n",
    "project_id = \"987d05ea-8a63-41eb-b41a-284bd1e045ce\"\n",
    "\n",
    "trainer = CustomVisionTrainingClient(training_key, endpoint=ENDPOINT)\n",
    "dest_trainer = CustomVisionTrainingClient(dest_training_key, endpoint=ENDPOINT)\n",
    "\n",
    "# Find the image classification domain\n",
    "classification_domain = next(domain for domain in trainer.get_domains() if domain.type == \"Classification\")\n",
    "dest_classification_domain = next(domain for domain in dest_trainer.get_domains() if domain.type == \"Classification\")"
   ]
  },
  {
   "cell_type": "markdown",
   "metadata": {},
   "source": [
    "## Get the origin project ID reference"
   ]
  },
  {
   "cell_type": "code",
   "execution_count": 3,
   "metadata": {},
   "outputs": [],
   "source": [
    "myProjects = trainer.get_projects()"
   ]
  },
  {
   "cell_type": "code",
   "execution_count": 4,
   "metadata": {},
   "outputs": [
    {
     "name": "stdout",
     "output_type": "stream",
     "text": [
      "DebrisRecognition\n",
      "aadaa47b-ca7b-4536-8450-ec4428dd302e\n",
      "\n"
     ]
    }
   ],
   "source": [
    "for project in myProjects:\n",
    "    print(project.name)\n",
    "    print(project.id)\n",
    "    print(project.description)"
   ]
  },
  {
   "cell_type": "code",
   "execution_count": 5,
   "metadata": {},
   "outputs": [],
   "source": [
    "Project = trainer.get_project(project_id=project_id)"
   ]
  },
  {
   "cell_type": "markdown",
   "metadata": {},
   "source": [
    "## Create the destination Project "
   ]
  },
  {
   "cell_type": "code",
   "execution_count": 6,
   "metadata": {},
   "outputs": [],
   "source": [
    "dest_Project = dest_trainer.create_project(dest_project_new_name, domain_id=dest_classification_domain.id)"
   ]
  },
  {
   "cell_type": "code",
   "execution_count": 7,
   "metadata": {},
   "outputs": [
    {
     "name": "stdout",
     "output_type": "stream",
     "text": [
      "DebrisRecognition_Copy\n",
      "76a87d7b-dde8-437a-b59d-6bcf17145dcf\n",
      "\n",
      "DebrisRecognition\n",
      "aadaa47b-ca7b-4536-8450-ec4428dd302e\n",
      "\n"
     ]
    }
   ],
   "source": [
    "for project in dest_trainer.get_projects():\n",
    "    print(project.name)\n",
    "    print(project.id)\n",
    "    print(project.description)"
   ]
  },
  {
   "cell_type": "markdown",
   "metadata": {},
   "source": [
    "## Get the tags on origin project and create same tags on destination project"
   ]
  },
  {
   "cell_type": "code",
   "execution_count": 8,
   "metadata": {
    "scrolled": true
   },
   "outputs": [
    {
     "name": "stdout",
     "output_type": "stream",
     "text": [
      "Ocean\n",
      "Object\n"
     ]
    }
   ],
   "source": [
    "dest_tags = []\n",
    "for tag in trainer.get_tags(Project.id):\n",
    "    dest_tags.append(dest_trainer.create_tag(dest_Project.id, tag.name))\n",
    "    print(tag.name)"
   ]
  },
  {
   "cell_type": "code",
   "execution_count": 9,
   "metadata": {},
   "outputs": [
    {
     "name": "stdout",
     "output_type": "stream",
     "text": [
      "{'Ocean': 'f8df763d-8f30-4d7c-b901-a62e70293194', 'Object': '025f5966-f499-4d43-83b2-ddd6c76a0bfd'}\n",
      "['f8df763d-8f30-4d7c-b901-a62e70293194', '025f5966-f499-4d43-83b2-ddd6c76a0bfd']\n"
     ]
    }
   ],
   "source": [
    "dest_tags_dict = {}\n",
    "dest_tag_ids = []\n",
    "for tag in dest_tags:\n",
    "    dest_tags_dict[tag.name] = tag.id\n",
    "    dest_tag_ids.append(tag.id)\n",
    "\n",
    "print(dest_tags_dict)\n",
    "print(dest_tag_ids)"
   ]
  },
  {
   "cell_type": "markdown",
   "metadata": {},
   "source": [
    "## Get the images on origin project"
   ]
  },
  {
   "cell_type": "code",
   "execution_count": 10,
   "metadata": {},
   "outputs": [],
   "source": [
    "tagged_images = trainer.get_tagged_images(Project.id, take=trainer.get_tagged_image_count(Project.id))"
   ]
  },
  {
   "cell_type": "code",
   "execution_count": 12,
   "metadata": {},
   "outputs": [
    {
     "name": "stdout",
     "output_type": "stream",
     "text": [
      "Done\n"
     ]
    }
   ],
   "source": [
    "tagged_images_with_tags = []\n",
    "for image in tagged_images: #for each tagged image on origin\n",
    "    dest_tags_ids = []\n",
    "    \n",
    "    for tag in image.tags: #for each tag on the origin image\n",
    "        dest_tags_ids.append(dest_tags_dict[tag.tag_name]) #append it to the image dest_tags_ids list\n",
    "    \n",
    "    tagged_images_with_tags.append(ImageUrlCreateEntry(url=image.original_image_uri, tag_ids=dest_tags_ids))\n",
    "print(\"Done\")"
   ]
  },
  {
   "cell_type": "markdown",
   "metadata": {},
   "source": [
    "## Create the images with regions on destination project"
   ]
  },
  {
   "cell_type": "code",
   "execution_count": 13,
   "metadata": {},
   "outputs": [],
   "source": [
    "limit = 64 # this is a limit imposed on the API, so we need to batch the creation process\n",
    "count_of_images = len(tagged_images_with_tags)\n",
    "\n",
    "for i in range(0,count_of_images,limit):\n",
    "    begin=i\n",
    "    end=limit+i\n",
    "    if(end > count_of_images ): end = count_of_images\n",
    "    dest_trainer.create_images_from_urls(dest_Project.id, images=tagged_images_with_tags[begin:end])"
   ]
  },
  {
   "cell_type": "code",
   "execution_count": 14,
   "metadata": {},
   "outputs": [
    {
     "name": "stdout",
     "output_type": "stream",
     "text": [
      "Count of Tagged images on origin project: 102\n",
      "Count of Tagged images on destination project: 102\n"
     ]
    }
   ],
   "source": [
    "print(\"Count of Tagged images on origin project: \" + str(trainer.get_tagged_image_count(Project.id)))\n",
    "print(\"Count of Tagged images on destination project: \" + str(dest_trainer.get_tagged_image_count(dest_Project.id)))"
   ]
  },
  {
   "cell_type": "markdown",
   "metadata": {},
   "source": [
    "## Train the model on destination Project"
   ]
  },
  {
   "cell_type": "code",
   "execution_count": 15,
   "metadata": {},
   "outputs": [
    {
     "name": "stdout",
     "output_type": "stream",
     "text": [
      "Training... (showing status each 10 seconds)\n",
      "Training status: Training\n",
      "Training status: Training\n",
      "Training status: Training\n",
      "Training status: Completed\n",
      "Done!\n"
     ]
    }
   ],
   "source": [
    "import time\n",
    "\n",
    "print (\"Training... (showing status each 10 seconds)\")\n",
    "iteration = dest_trainer.train_project(dest_Project.id)\n",
    "while (iteration.status != \"Completed\"):\n",
    "    iteration = dest_trainer.get_iteration(dest_Project.id, iteration.id)\n",
    "    print (\"Training status: \" + iteration.status)\n",
    "    time.sleep(10)\n",
    "\n",
    "# The iteration is now trained. Make it the default project endpoint\n",
    "dest_trainer.update_iteration(dest_Project.id, iteration.id, is_default=True)\n",
    "print (\"Done!\")"
   ]
  },
  {
   "cell_type": "markdown",
   "metadata": {},
   "source": [
    "## Get performance metrics with a custom threshold"
   ]
  },
  {
   "cell_type": "code",
   "execution_count": 16,
   "metadata": {},
   "outputs": [
    {
     "name": "stdout",
     "output_type": "stream",
     "text": [
      "Iteration: Iteration 1\n",
      "Precision: 91.85606%\n",
      "Recall: 88.25821%\n"
     ]
    }
   ],
   "source": [
    "performance = dest_trainer.get_iteration_performance(dest_Project.id, iteration.id, threshold=0.80)\n",
    "print(\"Iteration: \" + iteration.name)\n",
    "print(\"Precision: \" + str(performance.precision * 100)+ \"%\")\n",
    "print(\"Recall: \" + str(performance.recall * 100) + \"%\")"
   ]
  },
  {
   "cell_type": "code",
   "execution_count": 17,
   "metadata": {},
   "outputs": [],
   "source": [
    "per_tag_performance = performance.per_tag_performance"
   ]
  },
  {
   "cell_type": "code",
   "execution_count": 18,
   "metadata": {},
   "outputs": [
    {
     "name": "stdout",
     "output_type": "stream",
     "text": [
      "Tag: Object\t\tPrecision: 0.949735463\tRecall: 0.872222245\n",
      "Tag: Ocean\t\tPrecision: 0.8888889\tRecall: 0.8992674\n"
     ]
    }
   ],
   "source": [
    "for tag in per_tag_performance:\n",
    "    print (\"Tag: \" + tag.name + \"\\t\\t\" + \"Precision: \" + str(tag.precision) + \"\\t\" + \"Recall: \" + str(tag.recall))"
   ]
  },
  {
   "cell_type": "markdown",
   "metadata": {},
   "source": [
    "## Get and use the default prediction endpoint"
   ]
  },
  {
   "cell_type": "code",
   "execution_count": 19,
   "metadata": {},
   "outputs": [],
   "source": [
    "#You can make a web search online for \"ocean aerial dolphin\" and get an URL:\n",
    "url = \"https://s3.envato.com/files/239350427/preview.jpg\""
   ]
  },
  {
   "cell_type": "markdown",
   "metadata": {},
   "source": [
    "<div style=\"width:100%; margin-left:auto; margin-right:auto; margin-bottom:5px; margin-top:17px;\">\n",
    "<img src=\"https://s3.envato.com/files/239350427/preview.jpg\" alt=\"IMAGE\" /><br>\n",
    "</div>"
   ]
  },
  {
   "cell_type": "code",
   "execution_count": 20,
   "metadata": {},
   "outputs": [],
   "source": [
    "from azure.cognitiveservices.vision.customvision.prediction import CustomVisionPredictionClient\n",
    "\n",
    "# Now there is a trained endpoint that can be used to make a prediction\n",
    "dest_predictor = CustomVisionPredictionClient(dest_prediction_key, endpoint=ENDPOINT)\n",
    "\n",
    "# Open the sample image and get back the prediction results.\n",
    "results = dest_predictor.predict_image_url(dest_Project.id, iteration_id=iteration.id, url=url)"
   ]
  },
  {
   "cell_type": "code",
   "execution_count": 21,
   "metadata": {},
   "outputs": [
    {
     "name": "stdout",
     "output_type": "stream",
     "text": [
      "\tObject: 93.79%\n",
      "\tOcean: 46.26%\n"
     ]
    }
   ],
   "source": [
    "# Display the results.\n",
    "for prediction in results.predictions:\n",
    "    if(prediction.probability > 0.3): # only show the prediction with more than 30% threshold probability\n",
    "        print (\"\\t\" + prediction.tag_name + \": {0:.2f}%\".format(prediction.probability * 100))"
   ]
  }
 ],
 "metadata": {
  "kernelspec": {
   "display_name": "Python 3",
   "language": "python",
   "name": "python3"
  },
  "language_info": {
   "codemirror_mode": {
    "name": "ipython",
    "version": 3
   },
   "file_extension": ".py",
   "mimetype": "text/x-python",
   "name": "python",
   "nbconvert_exporter": "python",
   "pygments_lexer": "ipython3",
   "version": "3.5.5"
  }
 },
 "nbformat": 4,
 "nbformat_minor": 2
}
